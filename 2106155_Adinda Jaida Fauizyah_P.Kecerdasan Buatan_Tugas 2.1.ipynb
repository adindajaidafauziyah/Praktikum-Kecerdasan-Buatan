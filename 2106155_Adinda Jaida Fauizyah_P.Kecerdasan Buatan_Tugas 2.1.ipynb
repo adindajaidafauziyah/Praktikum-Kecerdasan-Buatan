{
  "nbformat": 4,
  "nbformat_minor": 0,
  "metadata": {
    "colab": {
      "provenance": []
    },
    "kernelspec": {
      "name": "python3",
      "display_name": "Python 3"
    },
    "language_info": {
      "name": "python"
    }
  },
  "cells": [
    {
      "cell_type": "code",
      "execution_count": 1,
      "metadata": {
        "id": "WmekRbc9hwC6",
        "colab": {
          "base_uri": "https://localhost:8080/"
        },
        "outputId": "22f5f315-b66c-4691-a678-eebcf204791b"
      },
      "outputs": [
        {
          "output_type": "stream",
          "name": "stdout",
          "text": [
            "BFS: ['A', 'B', 'C', 'D', 'E', 'F', 'G']\n"
          ]
        }
      ],
      "source": [
        "def bfs (graph, source):\n",
        "  visited = set () # to keep track of already visited nodes\n",
        "  bfs_traversal = list ()  # the BFS traversal result\n",
        "  queue = list()  #queue\n",
        "\n",
        "  # push the root node to the queue and mark it as visited \n",
        "  queue.append(source)\n",
        "  visited.add(source)\n",
        "\n",
        "  # loop until the queue is empty\n",
        "  while queue:\n",
        "    # pop the front node of the queue and add it to bfs_traversal\n",
        "    current_node = queue.pop(0)\n",
        "    bfs_traversal.append (current_node)\n",
        "\n",
        "    # check all the neighbour nodes of the current node\n",
        "    for neighbour_node in graph[current_node]:\n",
        "      # if the neighbour nodes already visited,\n",
        "      # push them to the queue and mark them as visited\n",
        "      if neighbour_node not in visited:\n",
        "        visited.add(neighbour_node)\n",
        "        queue.append(neighbour_node)\n",
        "\n",
        "  return bfs_traversal\n",
        "def main():\n",
        "  graph = {\n",
        "      'A' : ['B', 'C'],\n",
        "      'B' : ['A', 'D', 'E'],\n",
        "      'C' : ['A', 'F','G'],\n",
        "      'D' : ['B'],\n",
        "      'E' : ['B'],\n",
        "      'F' : ['C'],\n",
        "      'G' : ['C']  \n",
        "  }\n",
        "\n",
        "  bfs_traversal = bfs(graph, 'A')\n",
        "  print(f\"BFS: {bfs_traversal}\")\n",
        "\n",
        "\n",
        "if __name__=='__main__':\n",
        "  main()"
      ]
    }
  ]
}